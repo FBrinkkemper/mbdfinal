{
 "cells": [
  {
   "cell_type": "code",
   "execution_count": 1,
   "metadata": {
    "collapsed": true
   },
   "outputs": [],
   "source": [
    "# necessary prolog\n",
    "from pyspark import SparkContext\n",
    "sc = SparkContext()\n"
   ]
  },
  {
   "cell_type": "code",
   "execution_count": 6,
   "metadata": {
    "collapsed": false
   },
   "outputs": [
    {
     "name": "stdout",
     "output_type": "stream",
     "text": [
      "['\":null,\"entities\":{\"symbols\":[],\"urls\":[{\"expanded_url\":\"http:\\\\/\\\\/www.groentennieuws.nl\\\\/artikel\\\\/131912\\\\/Kli-Max-Slide-altijd-recht-voor-omkeerwiel\",\"indices\":[58,81],\"display_url\":\"groentennieuws.nl\\\\/artikel\\\\/131912\\\\u2026\",\"url\":\"https:\\\\/\\\\/t.co\\\\/g5y6v7YtU5\"}],\"hashtags\":[],\"media\":[{\"sizes\":{\"thumb\":{\"w\":150,\"resize\":\"crop\",\"h\":150},\"small\":{\"w\":340,\"resize\":\"fit\",\"h\":118},\"large\":{\"w\":460,\"resize\":\"fit\",\"h\":160},\"medium\":{\"w\":460,\"resize\":\"fit\",\"h\":160}},\"id\":656037512520028160,\"media_url_https\":\"https:\\\\/\\\\/pbs.twimg.com\\\\/media\\\\/CRq2pE0WUAAZH5T.jpg\",\"media_url\":\"http:\\\\/\\\\/pbs.twimg.com\\\\/media\\\\/CRq2pE0WUAAZH5T.jpg\",\"expanded_url\":\"http:\\\\/\\\\/twitter.com\\\\/grntnnws\\\\/status\\\\/656349154239582208\\\\/photo\\\\/1\",\"indices\":[82,105],\"id_str\":\"656037512520028160\",\"type\":\"photo\",\"display_url\":\"pic.twitter.com\\\\/5I61G1xedi\",\"url\":\"https:\\\\/\\\\/t.co\\\\/5I61G1xedi\"}],\"user_mentions\":[{\"id\":326645550,\"name\":\"Valk Systemen\",\"indices\":[44,57],\"screen_name\":\"valksystemen\",\"id_str\":\"326645550\"}]},\"is_quote_status\":false,\"source\":\"<a href=\\\\\"https:\\\\/\\\\/about.twitter.com\\\\/products\\\\/tweetdeck\\\\\" rel=\\\\\"nofollow\\\\\">TweetDeck<\\\\/a>\",\"favorited\":false,\"in_reply_to_user_id\":null,\"retweet_count\":0,\"id_str\":\"656349154239582208\",\"user\":{\"location\":\"Tholen, Zeeland\",\"default_profile\":true,\"profile_background_tile\":false,\"statuses_count\":2010,\"lang\":\"nl\",\"profile_link_color\":\"0084B4\",\"profile_banner_url\":\"https:\\\\/\\\\/pbs.twimg.com\\\\/profile_banners\\\\/1326688902\\\\/1437573260\",\"id\":1326688902,\"following\":null,\"protected\":false,\"favourites_count\":10,\"profile_text_color\":\"333333\",\"verified\":false,\"description\":\"groentennieuws.nl - dagelijks nieuws voor de glasgroentensector\",\"contributors_enabled\":false,\"profile_sidebar_border_color\":\"C0DEED\",\"name\":\"Groentennieuws\",\"profile_background_color\":\"C0DEED\",\"created_at\":\"Thu Apr 04 11:08:19 +0000 2013\",\"default_profile_image\":false,\"followers_count\":3529,\"profile_image_url_https\":\"https:\\\\/\\\\/pbs.twimg.com\\\\/profile_images\\\\/3749699410\\\\/8f88961d4a07a3451cb80ac65984cf35_normal.jpeg\",\"', '\":null,\"entities\":{\"symbols\":[],\"urls\":[{\"expanded_url\":\"http:\\\\/\\\\/heerenveen.nieuwsbreak.nl\\\\/headline\\\\/heerenveen-nieuws\\\\/dat-weten-dost-en-de-jong-heel-goed\\\\/41287068\",\"indices\":[38,61],\"display_url\":\"heerenveen.nieuwsbreak.nl\\\\/headline\\\\/heere\\\\u2026\",\"url\":\"https:\\\\/\\\\/t.co\\\\/502xBUNlur\"}],\"hashtags\":[{\"text\":\"heerenveen\",\"indices\":[63,74]},{\"text\":\"nieuws\",\"indices\":[75,82]}],\"user_mentions\":[]},\"is_quote_status\":false,\"source\":\"<a href=\\\\\"http:\\\\/\\\\/heerenveen.nieuwsbreak.nl\\\\/\\\\\" rel=\\\\\"nofollow\\\\\">NB Heerenveen Nieuws<\\\\/a>\",\"favorited\":false,\"in_reply_to_user_id\":null,\"retweet_count\":0,\"id_str\":\"656349155036680192\",\"user\":{\"location\":\"Heerenveen, Friesland\",\"default_profile\":true,\"profile_background_tile\":false,\"statuses_count\":579,\"lang\":\"nl\",\"profile_link_color\":\"0084B4\",\"profile_banner_url\":\"https:\\\\/\\\\/pbs.twimg.com\\\\/profile_banners\\\\/3467000362\\\\/1440753607\",\"id\":3467000362,\"following\":null,\"protected\":false,\"favourites_count\":0,\"profile_text_color\":\"333333\",\"verified\":false,\"description\":\"Alles over SC Heereenveen, het laatste nieuws, geruchten en actualiteiten verzameld op één plek\",\"contributors_enabled\":false,\"profile_sidebar_border_color\":\"C0DEED\",\"name\":\"Heerenveen Nieuws\",\"profile_background_color\":\"C0DEED\",\"created_at\":\"Fri Aug 28 09:18:21 +0000 2015\",\"default_profile_image\":false,\"followers_count\":1,\"profile_image_url_https\":\"https:\\\\/\\\\/pbs.twimg.com\\\\/profile_images\\\\/637192710797983744\\\\/u4e0CbM2_normal.png\",\"', '\":null,\"entities\":{\"symbols\":[],\"urls\":[],\"hashtags\":[],\"user_mentions\":[]},\"is_quote_status\":false,\"source\":\"<a href=\\\\\"http:\\\\/\\\\/twitter.com\\\\/download\\\\/android\\\\\" rel=\\\\\"nofollow\\\\\">Twitter for Android<\\\\/a>\",\"favorited\":false,\"in_reply_to_user_id\":null,\"retweet_count\":0,\"id_str\":\"656349155527426048\",\"user\":{\"location\":null,\"default_profile\":true,\"profile_background_tile\":false,\"statuses_count\":2112,\"lang\":\"nl\",\"profile_link_color\":\"0084B4\",\"profile_banner_url\":\"https:\\\\/\\\\/pbs.twimg.com\\\\/profile_banners\\\\/3080220755\\\\/1437923100\",\"id\":3080220755,\"following\":null,\"protected\":false,\"favourites_count\":351,\"profile_text_color\":\"333333\",\"verified\":false,\"description\":null,\"contributors_enabled\":false,\"profile_sidebar_border_color\":\"C0DEED\",\"name\":\"Sarah \",\"profile_background_color\":\"C0DEED\",\"created_at\":\"Sun Mar 08 20:25:36 +0000 2015\",\"default_profile_image\":false,\"followers_count\":94,\"profile_image_url_https\":\"https:\\\\/\\\\/pbs.twimg.com\\\\/profile_images\\\\/620852893244092416\\\\/ocLvSDe3_normal.jpg\",\"', '\":null,\"entities\":{\"symbols\":[],\"urls\":[{\"expanded_url\":\"http:\\\\/\\\\/goo.gl\\\\/fb\\\\/Pzs7vv\",\"indices\":[74,97],\"display_url\":\"goo.gl\\\\/fb\\\\/Pzs7vv\",\"url\":\"https:\\\\/\\\\/t.co\\\\/doT0XlUh90\"}],\"hashtags\":[{\"text\":\"justinbieber\",\"indices\":[98,111]}],\"user_mentions\":[]},\"is_quote_status\":false,\"source\":\"<a href=\\\\\"http:\\\\/\\\\/www.google.com\\\\/\\\\\" rel=\\\\\"nofollow\\\\\">Google<\\\\/a>\",\"favorited\":false,\"in_reply_to_user_id\":null,\"retweet_count\":0,\"id_str\":\"656349155791515648\",\"user\":{\"location\":\"New York\",\"default_profile\":true,\"profile_background_tile\":false,\"statuses_count\":38326,\"lang\":\"en\",\"profile_link_color\":\"0084B4\",\"profile_banner_url\":\"https:\\\\/\\\\/pbs.twimg.com\\\\/profile_banners\\\\/228037886\\\\/1355342737\",\"id\":228037886,\"following\":null,\"protected\":false,\"favourites_count\":17,\"profile_text_color\":\"333333\",\"verified\":false,\"description\":\"@JustinBieber Follows back! #F4F #Teamfollowback #Follow4Follow #MGWV\",\"contributors_enabled\":false,\"profile_sidebar_border_color\":\"C0DEED\",\"name\":\"Belieber\",\"profile_background_color\":\"C0DEED\",\"created_at\":\"Sat Dec 18 14:51:59 +0000 2010\",\"default_profile_image\":false,\"followers_count\":4269,\"profile_image_url_https\":\"https:\\\\/\\\\/pbs.twimg.com\\\\/profile_images\\\\/1193424542\\\\/JustinBieber_normal.jpg\",\"', '\":null,\"entities\":{\"symbols\":[],\"urls\":[{\"expanded_url\":\"http:\\\\/\\\\/tweetedtimes.com\\\\/In_Helmond?s=rgp\",\"indices\":[27,50],\"display_url\":\"tweetedtimes.com\\\\/In_Helmond?s=r\\\\u2026\",\"url\":\"https:\\\\/\\\\/t.co\\\\/jGWcXZ4LnE\"}],\"hashtags\":[],\"user_mentions\":[{\"id\":21078316,\"name\":\"Fleur Besters\",\"indices\":[68,81],\"screen_name\":\"FleurBesters\",\"id_str\":\"21078316\"}]},\"is_quote_status\":false,\"source\":\"<a href=\\\\\"http:\\\\/\\\\/www.tweetedtimes.com\\\\\" rel=\\\\\"nofollow\\\\\">The Tweeted Times<\\\\/a>\",\"favorited\":false,\"in_reply_to_user_id\":null,\"retweet_count\":0,\"id_str\":\"656349155992932352\",\"user\":{\"location\":\"Helmond\",\"default_profile\":false,\"profile_background_tile\":true,\"statuses_count\":3831,\"lang\":\"en\",\"profile_link_color\":\"0084B4\",\"id\":372713320,\"following\":null,\"protected\":false,\"favourites_count\":0,\"profile_text_color\":\"333333\",\"verified\":false,\"description\":\"Alles nieuws uit Helmond, overheid, onderwijs, ondernemers en andere opmerkelijke zaken\",\"contributors_enabled\":false,\"profile_sidebar_border_color\":\"C0DEED\",\"name\":\"InHelmond\",\"profile_background_color\":\"C0DEED\",\"created_at\":\"Tue Sep 13 08:40:27 +0000 2011\",\"default_profile_image\":false,\"followers_count\":1000,\"profile_image_url_https\":\"https:\\\\/\\\\/pbs.twimg.com\\\\/profile_images\\\\/1570714269\\\\/wapen-Helmond_normal.jpg\",\"']\n"
     ]
    }
   ],
   "source": [
    "\"\"\" #meerdere probeersels\n",
    "from pyspark import sql\n",
    "sqlContext = sql.SQLContext(sc)\n",
    "td = sqlContext.read.json(\"1000tweets.json\") \n",
    "\n",
    "\n",
    "\n",
    "    td.registerTempTable(\"twitter\");\n",
    "    sqlContext.sql('''\n",
    "    SELECT id \n",
    "    FROM twitter T\n",
    "    WHERE T.coordinates != null\n",
    "    '''\n",
    "    ).show()\n",
    "\n",
    "td.printSchema()\n",
    "#td.where(not td[\"geo\"] is \"null\").select(\"id\").show()\n",
    "\n",
    "\"\"\"\n",
    "\n",
    "def format(line):\n",
    "    f = line.split(\"geo\")\n",
    "    return (f[1])\n",
    "\n",
    "td = sc.textFile('1000tweets.txt').map(format)\n",
    "print(td.take(5))\n",
    "\\\n",
    "\n",
    "\n"
   ]
  },
  {
   "cell_type": "code",
   "execution_count": null,
   "metadata": {
    "collapsed": true
   },
   "outputs": [],
   "source": []
  }
 ],
 "metadata": {
  "kernelspec": {
   "display_name": "Python 3",
   "language": "python",
   "name": "python3"
  },
  "language_info": {
   "codemirror_mode": {
    "name": "ipython",
    "version": 3
   },
   "file_extension": ".py",
   "mimetype": "text/x-python",
   "name": "python",
   "nbconvert_exporter": "python",
   "pygments_lexer": "ipython3",
   "version": "3.5.2"
  }
 },
 "nbformat": 4,
 "nbformat_minor": 1
}
